{
 "cells": [
  {
   "cell_type": "code",
   "execution_count": null,
   "metadata": {},
   "outputs": [],
   "source": [
    "from viddit.core.tts import GoogleCloudTTS\n",
    "\n",
    "tts_module = GoogleCloudTTS(\"./src/viddit/resources/tts_key.json\")"
   ]
  },
  {
   "cell_type": "code",
   "execution_count": null,
   "metadata": {},
   "outputs": [],
   "source": [
    "tts_module.list_voices()\n",
    "\n",
    "\n",
    "lang_base = \"en-US-Standard-\"\n",
    "[\"A\",\"B\",\"C\",\"D\",\"E\",\"F\"]\n",
    "tts_module.text_to_speech(\"Hello, world!\", \"hello_world.mp3\", language_code=\"en-US\", voice_name=\"en-US-Standard-C\")"
   ]
  },
  {
   "cell_type": "code",
   "execution_count": null,
   "metadata": {},
   "outputs": [],
   "source": [
    "from viddit.core.metadata import GPTMetadata\n",
    "import os\n",
    "OPENAI_CREDS_PATH = os.path.join(\"src\",\"viddit\", \"resources\", \"gpt_key.json\")\n",
    "\n",
    "metadata_generator = GPTMetadata(OPENAI_CREDS_PATH)\n",
    "metadata_generator.generate_thumbnail_dalle(\"The Tradition of Not Seeing the Bride in the Wedding Dress Beforehand.\")"
   ]
  }
 ],
 "metadata": {
  "kernelspec": {
   "display_name": "scout38",
   "language": "python",
   "name": "python3"
  },
  "language_info": {
   "codemirror_mode": {
    "name": "ipython",
    "version": 3
   },
   "file_extension": ".py",
   "mimetype": "text/x-python",
   "name": "python",
   "nbconvert_exporter": "python",
   "pygments_lexer": "ipython3",
   "version": "3.9.16"
  },
  "orig_nbformat": 4
 },
 "nbformat": 4,
 "nbformat_minor": 2
}
